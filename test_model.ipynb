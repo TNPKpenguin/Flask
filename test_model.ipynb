{
 "cells": [
  {
   "cell_type": "code",
   "execution_count": 6,
   "metadata": {},
   "outputs": [],
   "source": [
    "import tensorflow as tf \n",
    "import numpy as np \n",
    "import pandas as pd \n",
    "import torch"
   ]
  },
  {
   "cell_type": "code",
   "execution_count": 7,
   "metadata": {},
   "outputs": [
    {
     "name": "stdout",
     "output_type": "stream",
     "text": [
      "torch version : 1.10.2\n"
     ]
    }
   ],
   "source": [
    "print(f\"torch version : {torch.__version__}\")"
   ]
  },
  {
   "cell_type": "code",
   "execution_count": null,
   "metadata": {},
   "outputs": [],
   "source": [
    "# เดือนด้วยว่าพรุ่งนี้ต้องไปทำงานและซื้อของตอนกลับบ้านด้วย ==> [พรุ่งนี้, ไปทำงาน, ซื้อของกลับบ้าน]\n",
    "# วันที่ 28 จะไปซื้อของที่เซเว่น ==> [28, ซื้อของที่เซเว่น]\n",
    "# กลางวันนี้มีประชุม ==> [กลางวันนี้, มีประชุม]"
   ]
  },
  {
   "cell_type": "code",
   "execution_count": 17,
   "metadata": {},
   "outputs": [],
   "source": [
    "class NN(torch.nn.Module):\n",
    "    def __init__(self, input_size):\n",
    "        super(NN, self).__init__()\n",
    "        self.input_size = input_size\n",
    "        self.model = torch.nn.Sequential(\n",
    "                        torch.nn.Linear(input_size, 16),\n",
    "                        torch.nn.ReLU(),\n",
    "                        torch.nn.Linear(16, 32),\n",
    "                        torch.nn.ReLU(),\n",
    "                        torch.nn.Linear(32, 16),\n",
    "                        torch.nn.ReLU(),\n",
    "                        torch.nn.Linear(16, input_size)\n",
    "                    )\n",
    "        \n",
    "    def forward(self):\n",
    "        return self.model()"
   ]
  },
  {
   "cell_type": "code",
   "execution_count": 18,
   "metadata": {},
   "outputs": [],
   "source": [
    "autoencoder = NN(2)\n",
    "\n",
    "loss_fn = torch.nn.MSELoss()\n",
    "optimizer = torch.optim.Adam(autoencoder.parameters(), lr=1e-2)\n"
   ]
  }
 ],
 "metadata": {
  "kernelspec": {
   "display_name": "tfpt",
   "language": "python",
   "name": "python3"
  },
  "language_info": {
   "codemirror_mode": {
    "name": "ipython",
    "version": 3
   },
   "file_extension": ".py",
   "mimetype": "text/x-python",
   "name": "python",
   "nbconvert_exporter": "python",
   "pygments_lexer": "ipython3",
   "version": "3.6.13"
  }
 },
 "nbformat": 4,
 "nbformat_minor": 2
}
